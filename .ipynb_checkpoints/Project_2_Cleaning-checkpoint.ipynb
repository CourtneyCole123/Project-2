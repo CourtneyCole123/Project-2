{
 "cells": [
  {
   "cell_type": "code",
   "execution_count": 4,
   "id": "8f9d676f-0d3f-407f-bc1f-f9af2b5157dc",
   "metadata": {},
   "outputs": [],
   "source": [
    "# Import Dependencies\n",
    "import requests\n",
    "import pandas as pd\n",
    "import json\n",
    "from splinter import Browser\n",
    "from bs4 import BeautifulSoup as bs\n",
    "import numpy as np\n",
    "import time\n",
    "import pymongo\n",
    "from pymongo import MongoClient \n",
    "import datetime\n",
    "import math"
   ]
  },
  {
   "cell_type": "markdown",
   "id": "84529ba5-5008-4837-a63d-3c59120e110f",
   "metadata": {},
   "source": [
    "# Cleaning Data Source 1  & Adding to MongoDB #"
   ]
  },
  {
   "cell_type": "code",
   "execution_count": 2,
   "id": "a6d2d6d0-286b-40da-98dd-71cbb0e70157",
   "metadata": {},
   "outputs": [],
   "source": [
    "# Read Source 1 CSV\n",
    "million_dollar_disasters_df = pd.read_csv('DataFrames/million_dollar_disasters_df.csv')"
   ]
  },
  {
   "cell_type": "code",
   "execution_count": 3,
   "id": "5396fdc1-792a-4703-a283-30a4a1bb3d7a",
   "metadata": {},
   "outputs": [
    {
     "data": {
      "text/html": [
       "<div>\n",
       "<style scoped>\n",
       "    .dataframe tbody tr th:only-of-type {\n",
       "        vertical-align: middle;\n",
       "    }\n",
       "\n",
       "    .dataframe tbody tr th {\n",
       "        vertical-align: top;\n",
       "    }\n",
       "\n",
       "    .dataframe thead th {\n",
       "        text-align: right;\n",
       "    }\n",
       "</style>\n",
       "<table border=\"1\" class=\"dataframe\">\n",
       "  <thead>\n",
       "    <tr style=\"text-align: right;\">\n",
       "      <th></th>\n",
       "      <th>name</th>\n",
       "      <th>disaster</th>\n",
       "      <th>begDate</th>\n",
       "      <th>endDate</th>\n",
       "      <th>adjCost</th>\n",
       "      <th>unadjCost</th>\n",
       "      <th>deaths</th>\n",
       "    </tr>\n",
       "  </thead>\n",
       "  <tbody>\n",
       "    <tr>\n",
       "      <th>0</th>\n",
       "      <td>Southern Severe Storms and Flooding (April 1980)</td>\n",
       "      <td>Flooding</td>\n",
       "      <td>19800410</td>\n",
       "      <td>19800417</td>\n",
       "      <td>2728.1</td>\n",
       "      <td>706.8</td>\n",
       "      <td>7</td>\n",
       "    </tr>\n",
       "  </tbody>\n",
       "</table>\n",
       "</div>"
      ],
      "text/plain": [
       "                                               name  disaster   begDate  \\\n",
       "0  Southern Severe Storms and Flooding (April 1980)  Flooding  19800410   \n",
       "\n",
       "    endDate  adjCost  unadjCost  deaths  \n",
       "0  19800417   2728.1      706.8       7  "
      ]
     },
     "execution_count": 3,
     "metadata": {},
     "output_type": "execute_result"
    }
   ],
   "source": [
    "# Display DataFrame sample\n",
    "million_dollar_disasters_df.head(1)"
   ]
  },
  {
   "cell_type": "code",
   "execution_count": 4,
   "id": "16edeb9e-acc4-4623-886f-5929b54145b3",
   "metadata": {},
   "outputs": [
    {
     "data": {
      "text/plain": [
       "name          object\n",
       "disaster      object\n",
       "begDate        int64\n",
       "endDate        int64\n",
       "adjCost      float64\n",
       "unadjCost    float64\n",
       "deaths         int64\n",
       "dtype: object"
      ]
     },
     "execution_count": 4,
     "metadata": {},
     "output_type": "execute_result"
    }
   ],
   "source": [
    "# Display Data Types\n",
    "million_dollar_disasters_df.dtypes"
   ]
  },
  {
   "cell_type": "code",
   "execution_count": 5,
   "id": "14dbaa95-f71a-46a9-81e4-b68610113831",
   "metadata": {},
   "outputs": [],
   "source": [
    "# Convert begDate and endDate to dates\n",
    "million_dollar_disasters_df['begDate']=  pd.to_datetime((million_dollar_disasters_df['begDate']), yearfirst=True,format=\"%Y%m%d\")\n",
    "million_dollar_disasters_df['endDate']=  pd.to_datetime((million_dollar_disasters_df['endDate']), yearfirst=True,format=\"%Y%m%d\")"
   ]
  },
  {
   "cell_type": "code",
   "execution_count": 6,
   "id": "cecda27d-c3aa-47b8-a043-276c064fb855",
   "metadata": {},
   "outputs": [],
   "source": [
    "# Split name into two chunks\n",
    "million_dollar_disasters_df[['name', 'date']] = million_dollar_disasters_df['name'].str.split('(', n=1, expand=True)"
   ]
  },
  {
   "cell_type": "code",
   "execution_count": 7,
   "id": "1ce950b3-5cea-4ff2-a1bb-e4396787dd7f",
   "metadata": {},
   "outputs": [],
   "source": [
    "# Remove closing parenthesis on date\n",
    "million_dollar_disasters_df['date'] = million_dollar_disasters_df['date'].str.replace(\")\",\"\")"
   ]
  },
  {
   "cell_type": "code",
   "execution_count": 8,
   "id": "30ccf2de-df40-49c5-a77a-7d81d3bac255",
   "metadata": {},
   "outputs": [],
   "source": [
    "# Truncate adjCost and unadjCost\n",
    "million_dollar_disasters_df['adjCost'] = [math.trunc(x) for x in million_dollar_disasters_df['adjCost']]\n",
    "million_dollar_disasters_df['unadjCost'] = [math.trunc(x) for x in million_dollar_disasters_df['unadjCost']]"
   ]
  },
  {
   "cell_type": "code",
   "execution_count": 9,
   "id": "148120da-599e-4853-845a-79d4cc098160",
   "metadata": {},
   "outputs": [],
   "source": [
    "# Trim extra spaces from name and disaster\n",
    "million_dollar_disasters_df['name'] = million_dollar_disasters_df['name'].str.strip()\n",
    "million_dollar_disasters_df['disaster'] = million_dollar_disasters_df['disaster'].str.strip()"
   ]
  },
  {
   "cell_type": "code",
   "execution_count": 10,
   "id": "aa4bb7f6-4996-46cf-8e08-7f92fa1f2603",
   "metadata": {},
   "outputs": [],
   "source": [
    "# Rename Columns\n",
    "million_dollar_disasters_df = million_dollar_disasters_df.rename(columns={'name': 'disaster_name','disaster':'disaster_type','begDate':'start_date',\n",
    "'endDate': 'end_date','adjCost': 'adjusted_cost','unadjCost': 'unadjusted_cost','date':'date category'})"
   ]
  },
  {
   "cell_type": "code",
   "execution_count": 11,
   "id": "7f1c291d-18d7-414f-833a-6960c026f303",
   "metadata": {},
   "outputs": [
    {
     "data": {
      "text/html": [
       "<div>\n",
       "<style scoped>\n",
       "    .dataframe tbody tr th:only-of-type {\n",
       "        vertical-align: middle;\n",
       "    }\n",
       "\n",
       "    .dataframe tbody tr th {\n",
       "        vertical-align: top;\n",
       "    }\n",
       "\n",
       "    .dataframe thead th {\n",
       "        text-align: right;\n",
       "    }\n",
       "</style>\n",
       "<table border=\"1\" class=\"dataframe\">\n",
       "  <thead>\n",
       "    <tr style=\"text-align: right;\">\n",
       "      <th></th>\n",
       "      <th>disaster_name</th>\n",
       "      <th>disaster_type</th>\n",
       "      <th>start_date</th>\n",
       "      <th>end_date</th>\n",
       "      <th>adjusted_cost</th>\n",
       "      <th>unadjusted_cost</th>\n",
       "      <th>deaths</th>\n",
       "      <th>date category</th>\n",
       "    </tr>\n",
       "  </thead>\n",
       "  <tbody>\n",
       "    <tr>\n",
       "      <th>0</th>\n",
       "      <td>Southern Severe Storms and Flooding</td>\n",
       "      <td>Flooding</td>\n",
       "      <td>1980-04-10</td>\n",
       "      <td>1980-04-17</td>\n",
       "      <td>2728</td>\n",
       "      <td>706</td>\n",
       "      <td>7</td>\n",
       "      <td>April 1980</td>\n",
       "    </tr>\n",
       "    <tr>\n",
       "      <th>1</th>\n",
       "      <td>Hurricane Allen</td>\n",
       "      <td>Tropical Cyclone</td>\n",
       "      <td>1980-08-07</td>\n",
       "      <td>1980-08-11</td>\n",
       "      <td>2212</td>\n",
       "      <td>590</td>\n",
       "      <td>13</td>\n",
       "      <td>August 1980</td>\n",
       "    </tr>\n",
       "    <tr>\n",
       "      <th>2</th>\n",
       "      <td>Central/Eastern Drought/Heat Wave</td>\n",
       "      <td>Drought</td>\n",
       "      <td>1980-06-01</td>\n",
       "      <td>1980-11-30</td>\n",
       "      <td>40180</td>\n",
       "      <td>10020</td>\n",
       "      <td>1260</td>\n",
       "      <td>Summer-Fall 1980</td>\n",
       "    </tr>\n",
       "    <tr>\n",
       "      <th>3</th>\n",
       "      <td>Florida Freeze</td>\n",
       "      <td>Freeze</td>\n",
       "      <td>1981-01-12</td>\n",
       "      <td>1981-01-14</td>\n",
       "      <td>2053</td>\n",
       "      <td>572</td>\n",
       "      <td>0</td>\n",
       "      <td>January 1981</td>\n",
       "    </tr>\n",
       "    <tr>\n",
       "      <th>4</th>\n",
       "      <td>Severe Storms, Flash Floods, Hail, Tornadoes</td>\n",
       "      <td>Severe Storm</td>\n",
       "      <td>1981-05-05</td>\n",
       "      <td>1981-05-10</td>\n",
       "      <td>1397</td>\n",
       "      <td>401</td>\n",
       "      <td>20</td>\n",
       "      <td>May 1981</td>\n",
       "    </tr>\n",
       "    <tr>\n",
       "      <th>...</th>\n",
       "      <td>...</td>\n",
       "      <td>...</td>\n",
       "      <td>...</td>\n",
       "      <td>...</td>\n",
       "      <td>...</td>\n",
       "      <td>...</td>\n",
       "      <td>...</td>\n",
       "      <td>...</td>\n",
       "    </tr>\n",
       "    <tr>\n",
       "      <th>378</th>\n",
       "      <td>Central and Southern Winter Storm and Cold Wave</td>\n",
       "      <td>Winter Storm</td>\n",
       "      <td>2024-01-14</td>\n",
       "      <td>2024-01-18</td>\n",
       "      <td>1345</td>\n",
       "      <td>1332</td>\n",
       "      <td>41</td>\n",
       "      <td>January 2024</td>\n",
       "    </tr>\n",
       "    <tr>\n",
       "      <th>379</th>\n",
       "      <td>Southern Severe Weather</td>\n",
       "      <td>Severe Storm</td>\n",
       "      <td>2024-02-10</td>\n",
       "      <td>2024-02-12</td>\n",
       "      <td>1150</td>\n",
       "      <td>1139</td>\n",
       "      <td>0</td>\n",
       "      <td>February 2024</td>\n",
       "    </tr>\n",
       "    <tr>\n",
       "      <th>380</th>\n",
       "      <td>Central and Southern Severe Weather</td>\n",
       "      <td>Severe Storm</td>\n",
       "      <td>2024-03-13</td>\n",
       "      <td>2024-03-15</td>\n",
       "      <td>4354</td>\n",
       "      <td>4311</td>\n",
       "      <td>3</td>\n",
       "      <td>March 2024</td>\n",
       "    </tr>\n",
       "    <tr>\n",
       "      <th>381</th>\n",
       "      <td>Central Tornado Outbreak and Eastern Severe We...</td>\n",
       "      <td>Severe Storm</td>\n",
       "      <td>2024-04-01</td>\n",
       "      <td>2024-04-03</td>\n",
       "      <td>1823</td>\n",
       "      <td>1823</td>\n",
       "      <td>3</td>\n",
       "      <td>April 2024</td>\n",
       "    </tr>\n",
       "    <tr>\n",
       "      <th>382</th>\n",
       "      <td>Southern and Eastern Severe Weather</td>\n",
       "      <td>Severe Storm</td>\n",
       "      <td>2024-04-08</td>\n",
       "      <td>2024-04-11</td>\n",
       "      <td>1510</td>\n",
       "      <td>1510</td>\n",
       "      <td>0</td>\n",
       "      <td>April 2024</td>\n",
       "    </tr>\n",
       "  </tbody>\n",
       "</table>\n",
       "<p>383 rows × 8 columns</p>\n",
       "</div>"
      ],
      "text/plain": [
       "                                         disaster_name     disaster_type  \\\n",
       "0                  Southern Severe Storms and Flooding          Flooding   \n",
       "1                                      Hurricane Allen  Tropical Cyclone   \n",
       "2                    Central/Eastern Drought/Heat Wave           Drought   \n",
       "3                                       Florida Freeze            Freeze   \n",
       "4         Severe Storms, Flash Floods, Hail, Tornadoes      Severe Storm   \n",
       "..                                                 ...               ...   \n",
       "378    Central and Southern Winter Storm and Cold Wave      Winter Storm   \n",
       "379                            Southern Severe Weather      Severe Storm   \n",
       "380                Central and Southern Severe Weather      Severe Storm   \n",
       "381  Central Tornado Outbreak and Eastern Severe We...      Severe Storm   \n",
       "382                Southern and Eastern Severe Weather      Severe Storm   \n",
       "\n",
       "    start_date   end_date  adjusted_cost  unadjusted_cost  deaths  \\\n",
       "0   1980-04-10 1980-04-17           2728              706       7   \n",
       "1   1980-08-07 1980-08-11           2212              590      13   \n",
       "2   1980-06-01 1980-11-30          40180            10020    1260   \n",
       "3   1981-01-12 1981-01-14           2053              572       0   \n",
       "4   1981-05-05 1981-05-10           1397              401      20   \n",
       "..         ...        ...            ...              ...     ...   \n",
       "378 2024-01-14 2024-01-18           1345             1332      41   \n",
       "379 2024-02-10 2024-02-12           1150             1139       0   \n",
       "380 2024-03-13 2024-03-15           4354             4311       3   \n",
       "381 2024-04-01 2024-04-03           1823             1823       3   \n",
       "382 2024-04-08 2024-04-11           1510             1510       0   \n",
       "\n",
       "        date category  \n",
       "0          April 1980  \n",
       "1         August 1980  \n",
       "2    Summer-Fall 1980  \n",
       "3        January 1981  \n",
       "4            May 1981  \n",
       "..                ...  \n",
       "378      January 2024  \n",
       "379     February 2024  \n",
       "380        March 2024  \n",
       "381        April 2024  \n",
       "382        April 2024  \n",
       "\n",
       "[383 rows x 8 columns]"
      ]
     },
     "execution_count": 11,
     "metadata": {},
     "output_type": "execute_result"
    }
   ],
   "source": [
    "# Review cleaned DataFrame\n",
    "million_dollar_disasters_df"
   ]
  },
  {
   "cell_type": "code",
   "execution_count": 12,
   "id": "bed4f041-25d7-4af6-b62f-1e867a18ba66",
   "metadata": {},
   "outputs": [],
   "source": [
    "# Create MongoDB database & collection\n",
    "client = pymongo.MongoClient(\"mongodb://localhost:27017/\")\n",
    "db = client[\"million_dollar_disasters\"]\n",
    "collection = db[\"disasters\"]"
   ]
  },
  {
   "cell_type": "code",
   "execution_count": 13,
   "id": "385a65b2-3fa5-4cb5-b47f-b03e4bd09f96",
   "metadata": {},
   "outputs": [
    {
     "data": {
      "text/plain": [
       "InsertManyResult([ObjectId('666609fa5105a0a68d1b2ecf'), ObjectId('666609fa5105a0a68d1b2ed0'), ObjectId('666609fa5105a0a68d1b2ed1'), ObjectId('666609fa5105a0a68d1b2ed2'), ObjectId('666609fa5105a0a68d1b2ed3'), ObjectId('666609fa5105a0a68d1b2ed4'), ObjectId('666609fa5105a0a68d1b2ed5'), ObjectId('666609fa5105a0a68d1b2ed6'), ObjectId('666609fa5105a0a68d1b2ed7'), ObjectId('666609fa5105a0a68d1b2ed8'), ObjectId('666609fa5105a0a68d1b2ed9'), ObjectId('666609fa5105a0a68d1b2eda'), ObjectId('666609fa5105a0a68d1b2edb'), ObjectId('666609fa5105a0a68d1b2edc'), ObjectId('666609fa5105a0a68d1b2edd'), ObjectId('666609fa5105a0a68d1b2ede'), ObjectId('666609fa5105a0a68d1b2edf'), ObjectId('666609fa5105a0a68d1b2ee0'), ObjectId('666609fa5105a0a68d1b2ee1'), ObjectId('666609fa5105a0a68d1b2ee2'), ObjectId('666609fa5105a0a68d1b2ee3'), ObjectId('666609fa5105a0a68d1b2ee4'), ObjectId('666609fa5105a0a68d1b2ee5'), ObjectId('666609fa5105a0a68d1b2ee6'), ObjectId('666609fa5105a0a68d1b2ee7'), ObjectId('666609fa5105a0a68d1b2ee8'), ObjectId('666609fa5105a0a68d1b2ee9'), ObjectId('666609fa5105a0a68d1b2eea'), ObjectId('666609fa5105a0a68d1b2eeb'), ObjectId('666609fa5105a0a68d1b2eec'), ObjectId('666609fa5105a0a68d1b2eed'), ObjectId('666609fa5105a0a68d1b2eee'), ObjectId('666609fa5105a0a68d1b2eef'), ObjectId('666609fa5105a0a68d1b2ef0'), ObjectId('666609fa5105a0a68d1b2ef1'), ObjectId('666609fa5105a0a68d1b2ef2'), ObjectId('666609fa5105a0a68d1b2ef3'), ObjectId('666609fa5105a0a68d1b2ef4'), ObjectId('666609fa5105a0a68d1b2ef5'), ObjectId('666609fa5105a0a68d1b2ef6'), ObjectId('666609fa5105a0a68d1b2ef7'), ObjectId('666609fa5105a0a68d1b2ef8'), ObjectId('666609fa5105a0a68d1b2ef9'), ObjectId('666609fa5105a0a68d1b2efa'), ObjectId('666609fa5105a0a68d1b2efb'), ObjectId('666609fa5105a0a68d1b2efc'), ObjectId('666609fa5105a0a68d1b2efd'), ObjectId('666609fa5105a0a68d1b2efe'), ObjectId('666609fa5105a0a68d1b2eff'), ObjectId('666609fa5105a0a68d1b2f00'), ObjectId('666609fa5105a0a68d1b2f01'), ObjectId('666609fa5105a0a68d1b2f02'), ObjectId('666609fa5105a0a68d1b2f03'), ObjectId('666609fa5105a0a68d1b2f04'), ObjectId('666609fa5105a0a68d1b2f05'), ObjectId('666609fa5105a0a68d1b2f06'), ObjectId('666609fa5105a0a68d1b2f07'), ObjectId('666609fa5105a0a68d1b2f08'), ObjectId('666609fa5105a0a68d1b2f09'), ObjectId('666609fa5105a0a68d1b2f0a'), ObjectId('666609fa5105a0a68d1b2f0b'), ObjectId('666609fa5105a0a68d1b2f0c'), ObjectId('666609fa5105a0a68d1b2f0d'), ObjectId('666609fa5105a0a68d1b2f0e'), ObjectId('666609fa5105a0a68d1b2f0f'), ObjectId('666609fa5105a0a68d1b2f10'), ObjectId('666609fa5105a0a68d1b2f11'), ObjectId('666609fa5105a0a68d1b2f12'), ObjectId('666609fa5105a0a68d1b2f13'), ObjectId('666609fa5105a0a68d1b2f14'), ObjectId('666609fa5105a0a68d1b2f15'), ObjectId('666609fa5105a0a68d1b2f16'), ObjectId('666609fa5105a0a68d1b2f17'), ObjectId('666609fa5105a0a68d1b2f18'), ObjectId('666609fa5105a0a68d1b2f19'), ObjectId('666609fa5105a0a68d1b2f1a'), ObjectId('666609fa5105a0a68d1b2f1b'), ObjectId('666609fa5105a0a68d1b2f1c'), ObjectId('666609fa5105a0a68d1b2f1d'), ObjectId('666609fa5105a0a68d1b2f1e'), ObjectId('666609fa5105a0a68d1b2f1f'), ObjectId('666609fa5105a0a68d1b2f20'), ObjectId('666609fa5105a0a68d1b2f21'), ObjectId('666609fa5105a0a68d1b2f22'), ObjectId('666609fa5105a0a68d1b2f23'), ObjectId('666609fa5105a0a68d1b2f24'), ObjectId('666609fa5105a0a68d1b2f25'), ObjectId('666609fa5105a0a68d1b2f26'), ObjectId('666609fa5105a0a68d1b2f27'), ObjectId('666609fa5105a0a68d1b2f28'), ObjectId('666609fa5105a0a68d1b2f29'), ObjectId('666609fa5105a0a68d1b2f2a'), ObjectId('666609fa5105a0a68d1b2f2b'), ObjectId('666609fa5105a0a68d1b2f2c'), ObjectId('666609fa5105a0a68d1b2f2d'), ObjectId('666609fa5105a0a68d1b2f2e'), ObjectId('666609fa5105a0a68d1b2f2f'), ObjectId('666609fa5105a0a68d1b2f30'), ObjectId('666609fa5105a0a68d1b2f31'), ObjectId('666609fa5105a0a68d1b2f32'), ObjectId('666609fa5105a0a68d1b2f33'), ObjectId('666609fa5105a0a68d1b2f34'), ObjectId('666609fa5105a0a68d1b2f35'), ObjectId('666609fa5105a0a68d1b2f36'), ObjectId('666609fa5105a0a68d1b2f37'), ObjectId('666609fa5105a0a68d1b2f38'), ObjectId('666609fa5105a0a68d1b2f39'), ObjectId('666609fa5105a0a68d1b2f3a'), ObjectId('666609fa5105a0a68d1b2f3b'), ObjectId('666609fa5105a0a68d1b2f3c'), ObjectId('666609fa5105a0a68d1b2f3d'), ObjectId('666609fa5105a0a68d1b2f3e'), ObjectId('666609fa5105a0a68d1b2f3f'), ObjectId('666609fa5105a0a68d1b2f40'), ObjectId('666609fa5105a0a68d1b2f41'), ObjectId('666609fa5105a0a68d1b2f42'), ObjectId('666609fa5105a0a68d1b2f43'), ObjectId('666609fa5105a0a68d1b2f44'), ObjectId('666609fa5105a0a68d1b2f45'), ObjectId('666609fa5105a0a68d1b2f46'), ObjectId('666609fa5105a0a68d1b2f47'), ObjectId('666609fa5105a0a68d1b2f48'), ObjectId('666609fa5105a0a68d1b2f49'), ObjectId('666609fa5105a0a68d1b2f4a'), ObjectId('666609fa5105a0a68d1b2f4b'), ObjectId('666609fa5105a0a68d1b2f4c'), ObjectId('666609fa5105a0a68d1b2f4d'), ObjectId('666609fa5105a0a68d1b2f4e'), ObjectId('666609fa5105a0a68d1b2f4f'), ObjectId('666609fa5105a0a68d1b2f50'), ObjectId('666609fa5105a0a68d1b2f51'), ObjectId('666609fa5105a0a68d1b2f52'), ObjectId('666609fa5105a0a68d1b2f53'), ObjectId('666609fa5105a0a68d1b2f54'), ObjectId('666609fa5105a0a68d1b2f55'), ObjectId('666609fa5105a0a68d1b2f56'), ObjectId('666609fa5105a0a68d1b2f57'), ObjectId('666609fa5105a0a68d1b2f58'), ObjectId('666609fa5105a0a68d1b2f59'), ObjectId('666609fa5105a0a68d1b2f5a'), ObjectId('666609fa5105a0a68d1b2f5b'), ObjectId('666609fa5105a0a68d1b2f5c'), ObjectId('666609fa5105a0a68d1b2f5d'), ObjectId('666609fa5105a0a68d1b2f5e'), ObjectId('666609fa5105a0a68d1b2f5f'), ObjectId('666609fa5105a0a68d1b2f60'), ObjectId('666609fa5105a0a68d1b2f61'), ObjectId('666609fa5105a0a68d1b2f62'), ObjectId('666609fa5105a0a68d1b2f63'), ObjectId('666609fa5105a0a68d1b2f64'), ObjectId('666609fa5105a0a68d1b2f65'), ObjectId('666609fa5105a0a68d1b2f66'), ObjectId('666609fa5105a0a68d1b2f67'), ObjectId('666609fa5105a0a68d1b2f68'), ObjectId('666609fa5105a0a68d1b2f69'), ObjectId('666609fa5105a0a68d1b2f6a'), ObjectId('666609fa5105a0a68d1b2f6b'), ObjectId('666609fa5105a0a68d1b2f6c'), ObjectId('666609fa5105a0a68d1b2f6d'), ObjectId('666609fa5105a0a68d1b2f6e'), ObjectId('666609fa5105a0a68d1b2f6f'), ObjectId('666609fa5105a0a68d1b2f70'), ObjectId('666609fa5105a0a68d1b2f71'), ObjectId('666609fa5105a0a68d1b2f72'), ObjectId('666609fa5105a0a68d1b2f73'), ObjectId('666609fa5105a0a68d1b2f74'), ObjectId('666609fa5105a0a68d1b2f75'), ObjectId('666609fa5105a0a68d1b2f76'), ObjectId('666609fa5105a0a68d1b2f77'), ObjectId('666609fa5105a0a68d1b2f78'), ObjectId('666609fa5105a0a68d1b2f79'), ObjectId('666609fa5105a0a68d1b2f7a'), ObjectId('666609fa5105a0a68d1b2f7b'), ObjectId('666609fa5105a0a68d1b2f7c'), ObjectId('666609fa5105a0a68d1b2f7d'), ObjectId('666609fa5105a0a68d1b2f7e'), ObjectId('666609fa5105a0a68d1b2f7f'), ObjectId('666609fa5105a0a68d1b2f80'), ObjectId('666609fa5105a0a68d1b2f81'), ObjectId('666609fa5105a0a68d1b2f82'), ObjectId('666609fa5105a0a68d1b2f83'), ObjectId('666609fa5105a0a68d1b2f84'), ObjectId('666609fa5105a0a68d1b2f85'), ObjectId('666609fa5105a0a68d1b2f86'), ObjectId('666609fa5105a0a68d1b2f87'), ObjectId('666609fa5105a0a68d1b2f88'), ObjectId('666609fa5105a0a68d1b2f89'), ObjectId('666609fa5105a0a68d1b2f8a'), ObjectId('666609fa5105a0a68d1b2f8b'), ObjectId('666609fa5105a0a68d1b2f8c'), ObjectId('666609fa5105a0a68d1b2f8d'), ObjectId('666609fa5105a0a68d1b2f8e'), ObjectId('666609fa5105a0a68d1b2f8f'), ObjectId('666609fa5105a0a68d1b2f90'), ObjectId('666609fa5105a0a68d1b2f91'), ObjectId('666609fa5105a0a68d1b2f92'), ObjectId('666609fa5105a0a68d1b2f93'), ObjectId('666609fa5105a0a68d1b2f94'), ObjectId('666609fa5105a0a68d1b2f95'), ObjectId('666609fa5105a0a68d1b2f96'), ObjectId('666609fa5105a0a68d1b2f97'), ObjectId('666609fa5105a0a68d1b2f98'), ObjectId('666609fa5105a0a68d1b2f99'), ObjectId('666609fa5105a0a68d1b2f9a'), ObjectId('666609fa5105a0a68d1b2f9b'), ObjectId('666609fa5105a0a68d1b2f9c'), ObjectId('666609fa5105a0a68d1b2f9d'), ObjectId('666609fa5105a0a68d1b2f9e'), ObjectId('666609fa5105a0a68d1b2f9f'), ObjectId('666609fa5105a0a68d1b2fa0'), ObjectId('666609fa5105a0a68d1b2fa1'), ObjectId('666609fa5105a0a68d1b2fa2'), ObjectId('666609fa5105a0a68d1b2fa3'), ObjectId('666609fa5105a0a68d1b2fa4'), ObjectId('666609fa5105a0a68d1b2fa5'), ObjectId('666609fa5105a0a68d1b2fa6'), ObjectId('666609fa5105a0a68d1b2fa7'), ObjectId('666609fa5105a0a68d1b2fa8'), ObjectId('666609fa5105a0a68d1b2fa9'), ObjectId('666609fa5105a0a68d1b2faa'), ObjectId('666609fa5105a0a68d1b2fab'), ObjectId('666609fa5105a0a68d1b2fac'), ObjectId('666609fa5105a0a68d1b2fad'), ObjectId('666609fa5105a0a68d1b2fae'), ObjectId('666609fa5105a0a68d1b2faf'), ObjectId('666609fa5105a0a68d1b2fb0'), ObjectId('666609fa5105a0a68d1b2fb1'), ObjectId('666609fa5105a0a68d1b2fb2'), ObjectId('666609fa5105a0a68d1b2fb3'), ObjectId('666609fa5105a0a68d1b2fb4'), ObjectId('666609fa5105a0a68d1b2fb5'), ObjectId('666609fa5105a0a68d1b2fb6'), ObjectId('666609fa5105a0a68d1b2fb7'), ObjectId('666609fa5105a0a68d1b2fb8'), ObjectId('666609fa5105a0a68d1b2fb9'), ObjectId('666609fa5105a0a68d1b2fba'), ObjectId('666609fa5105a0a68d1b2fbb'), ObjectId('666609fa5105a0a68d1b2fbc'), ObjectId('666609fa5105a0a68d1b2fbd'), ObjectId('666609fa5105a0a68d1b2fbe'), ObjectId('666609fa5105a0a68d1b2fbf'), ObjectId('666609fa5105a0a68d1b2fc0'), ObjectId('666609fa5105a0a68d1b2fc1'), ObjectId('666609fa5105a0a68d1b2fc2'), ObjectId('666609fa5105a0a68d1b2fc3'), ObjectId('666609fa5105a0a68d1b2fc4'), ObjectId('666609fa5105a0a68d1b2fc5'), ObjectId('666609fa5105a0a68d1b2fc6'), ObjectId('666609fa5105a0a68d1b2fc7'), ObjectId('666609fa5105a0a68d1b2fc8'), ObjectId('666609fa5105a0a68d1b2fc9'), ObjectId('666609fa5105a0a68d1b2fca'), ObjectId('666609fa5105a0a68d1b2fcb'), ObjectId('666609fa5105a0a68d1b2fcc'), ObjectId('666609fa5105a0a68d1b2fcd'), ObjectId('666609fa5105a0a68d1b2fce'), ObjectId('666609fa5105a0a68d1b2fcf'), ObjectId('666609fa5105a0a68d1b2fd0'), ObjectId('666609fa5105a0a68d1b2fd1'), ObjectId('666609fa5105a0a68d1b2fd2'), ObjectId('666609fa5105a0a68d1b2fd3'), ObjectId('666609fa5105a0a68d1b2fd4'), ObjectId('666609fa5105a0a68d1b2fd5'), ObjectId('666609fa5105a0a68d1b2fd6'), ObjectId('666609fa5105a0a68d1b2fd7'), ObjectId('666609fa5105a0a68d1b2fd8'), ObjectId('666609fa5105a0a68d1b2fd9'), ObjectId('666609fa5105a0a68d1b2fda'), ObjectId('666609fa5105a0a68d1b2fdb'), ObjectId('666609fa5105a0a68d1b2fdc'), ObjectId('666609fa5105a0a68d1b2fdd'), ObjectId('666609fa5105a0a68d1b2fde'), ObjectId('666609fa5105a0a68d1b2fdf'), ObjectId('666609fa5105a0a68d1b2fe0'), ObjectId('666609fa5105a0a68d1b2fe1'), ObjectId('666609fa5105a0a68d1b2fe2'), ObjectId('666609fa5105a0a68d1b2fe3'), ObjectId('666609fa5105a0a68d1b2fe4'), ObjectId('666609fa5105a0a68d1b2fe5'), ObjectId('666609fa5105a0a68d1b2fe6'), ObjectId('666609fa5105a0a68d1b2fe7'), ObjectId('666609fa5105a0a68d1b2fe8'), ObjectId('666609fa5105a0a68d1b2fe9'), ObjectId('666609fa5105a0a68d1b2fea'), ObjectId('666609fa5105a0a68d1b2feb'), ObjectId('666609fa5105a0a68d1b2fec'), ObjectId('666609fa5105a0a68d1b2fed'), ObjectId('666609fa5105a0a68d1b2fee'), ObjectId('666609fa5105a0a68d1b2fef'), ObjectId('666609fa5105a0a68d1b2ff0'), ObjectId('666609fa5105a0a68d1b2ff1'), ObjectId('666609fa5105a0a68d1b2ff2'), ObjectId('666609fa5105a0a68d1b2ff3'), ObjectId('666609fa5105a0a68d1b2ff4'), ObjectId('666609fa5105a0a68d1b2ff5'), ObjectId('666609fa5105a0a68d1b2ff6'), ObjectId('666609fa5105a0a68d1b2ff7'), ObjectId('666609fa5105a0a68d1b2ff8'), ObjectId('666609fa5105a0a68d1b2ff9'), ObjectId('666609fa5105a0a68d1b2ffa'), ObjectId('666609fa5105a0a68d1b2ffb'), ObjectId('666609fa5105a0a68d1b2ffc'), ObjectId('666609fa5105a0a68d1b2ffd'), ObjectId('666609fa5105a0a68d1b2ffe'), ObjectId('666609fa5105a0a68d1b2fff'), ObjectId('666609fa5105a0a68d1b3000'), ObjectId('666609fa5105a0a68d1b3001'), ObjectId('666609fa5105a0a68d1b3002'), ObjectId('666609fa5105a0a68d1b3003'), ObjectId('666609fa5105a0a68d1b3004'), ObjectId('666609fa5105a0a68d1b3005'), ObjectId('666609fa5105a0a68d1b3006'), ObjectId('666609fa5105a0a68d1b3007'), ObjectId('666609fa5105a0a68d1b3008'), ObjectId('666609fa5105a0a68d1b3009'), ObjectId('666609fa5105a0a68d1b300a'), ObjectId('666609fa5105a0a68d1b300b'), ObjectId('666609fa5105a0a68d1b300c'), ObjectId('666609fa5105a0a68d1b300d'), ObjectId('666609fa5105a0a68d1b300e'), ObjectId('666609fa5105a0a68d1b300f'), ObjectId('666609fa5105a0a68d1b3010'), ObjectId('666609fa5105a0a68d1b3011'), ObjectId('666609fa5105a0a68d1b3012'), ObjectId('666609fa5105a0a68d1b3013'), ObjectId('666609fa5105a0a68d1b3014'), ObjectId('666609fa5105a0a68d1b3015'), ObjectId('666609fa5105a0a68d1b3016'), ObjectId('666609fa5105a0a68d1b3017'), ObjectId('666609fa5105a0a68d1b3018'), ObjectId('666609fa5105a0a68d1b3019'), ObjectId('666609fa5105a0a68d1b301a'), ObjectId('666609fa5105a0a68d1b301b'), ObjectId('666609fa5105a0a68d1b301c'), ObjectId('666609fa5105a0a68d1b301d'), ObjectId('666609fa5105a0a68d1b301e'), ObjectId('666609fa5105a0a68d1b301f'), ObjectId('666609fa5105a0a68d1b3020'), ObjectId('666609fa5105a0a68d1b3021'), ObjectId('666609fa5105a0a68d1b3022'), ObjectId('666609fa5105a0a68d1b3023'), ObjectId('666609fa5105a0a68d1b3024'), ObjectId('666609fa5105a0a68d1b3025'), ObjectId('666609fa5105a0a68d1b3026'), ObjectId('666609fa5105a0a68d1b3027'), ObjectId('666609fa5105a0a68d1b3028'), ObjectId('666609fa5105a0a68d1b3029'), ObjectId('666609fa5105a0a68d1b302a'), ObjectId('666609fa5105a0a68d1b302b'), ObjectId('666609fa5105a0a68d1b302c'), ObjectId('666609fa5105a0a68d1b302d'), ObjectId('666609fa5105a0a68d1b302e'), ObjectId('666609fa5105a0a68d1b302f'), ObjectId('666609fa5105a0a68d1b3030'), ObjectId('666609fa5105a0a68d1b3031'), ObjectId('666609fa5105a0a68d1b3032'), ObjectId('666609fa5105a0a68d1b3033'), ObjectId('666609fa5105a0a68d1b3034'), ObjectId('666609fa5105a0a68d1b3035'), ObjectId('666609fa5105a0a68d1b3036'), ObjectId('666609fa5105a0a68d1b3037'), ObjectId('666609fa5105a0a68d1b3038'), ObjectId('666609fa5105a0a68d1b3039'), ObjectId('666609fa5105a0a68d1b303a'), ObjectId('666609fa5105a0a68d1b303b'), ObjectId('666609fa5105a0a68d1b303c'), ObjectId('666609fa5105a0a68d1b303d'), ObjectId('666609fa5105a0a68d1b303e'), ObjectId('666609fa5105a0a68d1b303f'), ObjectId('666609fa5105a0a68d1b3040'), ObjectId('666609fa5105a0a68d1b3041'), ObjectId('666609fa5105a0a68d1b3042'), ObjectId('666609fa5105a0a68d1b3043'), ObjectId('666609fa5105a0a68d1b3044'), ObjectId('666609fa5105a0a68d1b3045'), ObjectId('666609fa5105a0a68d1b3046'), ObjectId('666609fa5105a0a68d1b3047'), ObjectId('666609fa5105a0a68d1b3048'), ObjectId('666609fa5105a0a68d1b3049'), ObjectId('666609fa5105a0a68d1b304a'), ObjectId('666609fa5105a0a68d1b304b'), ObjectId('666609fa5105a0a68d1b304c'), ObjectId('666609fa5105a0a68d1b304d')], acknowledged=True)"
      ]
     },
     "execution_count": 13,
     "metadata": {},
     "output_type": "execute_result"
    }
   ],
   "source": [
    "# Insert data into MongoDB\n",
    "data_dict = million_dollar_disasters_df.to_dict(orient='records')\n",
    "collection.insert_many(data_dict)"
   ]
  },
  {
   "cell_type": "markdown",
   "id": "31519b25-16fa-4f04-93d3-cd1190b26814",
   "metadata": {},
   "source": [
    "# Remember...Source 2 was skipped. # "
   ]
  },
  {
   "cell_type": "markdown",
   "id": "b5034662-a88c-4900-84ce-eeb1437b284e",
   "metadata": {},
   "source": [
    "# Cleaning Data Source 3  & Adding to MongoDB #"
   ]
  },
  {
   "cell_type": "code",
   "execution_count": 16,
   "id": "2569e8ea-0956-4fa6-9ad7-10d09b83e451",
   "metadata": {},
   "outputs": [],
   "source": [
    "# Read Source 1 CSV\n",
    "air_pollution_df = pd.read_csv('Dataframes/air_pollution_df.csv')"
   ]
  },
  {
   "cell_type": "code",
   "execution_count": 17,
   "id": "71364340-fa19-4dc8-8147-ce495a558360",
   "metadata": {},
   "outputs": [
    {
     "data": {
      "text/html": [
       "<div>\n",
       "<style scoped>\n",
       "    .dataframe tbody tr th:only-of-type {\n",
       "        vertical-align: middle;\n",
       "    }\n",
       "\n",
       "    .dataframe tbody tr th {\n",
       "        vertical-align: top;\n",
       "    }\n",
       "\n",
       "    .dataframe thead th {\n",
       "        text-align: right;\n",
       "    }\n",
       "</style>\n",
       "<table border=\"1\" class=\"dataframe\">\n",
       "  <thead>\n",
       "    <tr style=\"text-align: right;\">\n",
       "      <th></th>\n",
       "      <th>measurements_unit</th>\n",
       "      <th>measurements_value</th>\n",
       "      <th>measurements_sourcename</th>\n",
       "      <th>measurements_lastupdated</th>\n",
       "      <th>measurements_parameter</th>\n",
       "      <th>country_name_en</th>\n",
       "    </tr>\n",
       "  </thead>\n",
       "  <tbody>\n",
       "    <tr>\n",
       "      <th>0</th>\n",
       "      <td>ppm</td>\n",
       "      <td>0.037</td>\n",
       "      <td>AirNow</td>\n",
       "      <td>2023-05-30T18:00:00-05:00</td>\n",
       "      <td>O3</td>\n",
       "      <td>United States</td>\n",
       "    </tr>\n",
       "  </tbody>\n",
       "</table>\n",
       "</div>"
      ],
      "text/plain": [
       "  measurements_unit  measurements_value measurements_sourcename  \\\n",
       "0               ppm               0.037                  AirNow   \n",
       "\n",
       "    measurements_lastupdated measurements_parameter country_name_en  \n",
       "0  2023-05-30T18:00:00-05:00                     O3   United States  "
      ]
     },
     "execution_count": 17,
     "metadata": {},
     "output_type": "execute_result"
    }
   ],
   "source": [
    "# Display DataFrame sample\n",
    "air_pollution_df.head(1)"
   ]
  },
  {
   "cell_type": "code",
   "execution_count": 18,
   "id": "95d846c9-a164-4295-a0e7-a56e7a6acac2",
   "metadata": {},
   "outputs": [
    {
     "data": {
      "text/plain": [
       "measurements_unit            object\n",
       "measurements_value          float64\n",
       "measurements_sourcename      object\n",
       "measurements_lastupdated     object\n",
       "measurements_parameter       object\n",
       "country_name_en              object\n",
       "dtype: object"
      ]
     },
     "execution_count": 18,
     "metadata": {},
     "output_type": "execute_result"
    }
   ],
   "source": [
    "# Check data types\n",
    "air_pollution_df.dtypes"
   ]
  },
  {
   "cell_type": "code",
   "execution_count": 19,
   "id": "2bf349d0-5de3-46cc-ab30-791d4f15b958",
   "metadata": {},
   "outputs": [],
   "source": [
    "# Change measurements_lastupdated to a datetime\n",
    "air_pollution_df['measurements_lastupdated'] = pd.to_datetime(air_pollution_df['measurements_lastupdated'],yearfirst=True,format=\"ISO8601\")"
   ]
  },
  {
   "cell_type": "code",
   "execution_count": 20,
   "id": "cb16c47c-63a4-46b1-ae3e-6b6aa789feb6",
   "metadata": {},
   "outputs": [],
   "source": [
    "# Change Column names\n",
    "air_pollution_df = air_pollution_df.rename(columns={'measurements_value':'measurement_in_ppm','measurements_sourcename': 'source',\n",
    "'measurements_lastupdated':'last_update','measurements_parameter':'parameter','country_name_en': 'country'})"
   ]
  },
  {
   "cell_type": "code",
   "execution_count": 21,
   "id": "27715b06-a006-4bc6-83b9-ef30183d3099",
   "metadata": {},
   "outputs": [],
   "source": [
    "# Delete measurements_units since we changed the column name to reflect the units\n",
    "del air_pollution_df['measurements_unit']"
   ]
  },
  {
   "cell_type": "code",
   "execution_count": 22,
   "id": "3141bd26-3a70-4719-9213-2ffb74e6c790",
   "metadata": {},
   "outputs": [],
   "source": [
    "# Rearrange the DataFrame columns\n",
    "air_pollution_df = air_pollution_df[['source','country','parameter','measurement_in_ppm','last_update']]"
   ]
  },
  {
   "cell_type": "code",
   "execution_count": 23,
   "id": "661f925e-d2f1-4997-8632-6738f1da70ab",
   "metadata": {},
   "outputs": [
    {
     "data": {
      "text/html": [
       "<div>\n",
       "<style scoped>\n",
       "    .dataframe tbody tr th:only-of-type {\n",
       "        vertical-align: middle;\n",
       "    }\n",
       "\n",
       "    .dataframe tbody tr th {\n",
       "        vertical-align: top;\n",
       "    }\n",
       "\n",
       "    .dataframe thead th {\n",
       "        text-align: right;\n",
       "    }\n",
       "</style>\n",
       "<table border=\"1\" class=\"dataframe\">\n",
       "  <thead>\n",
       "    <tr style=\"text-align: right;\">\n",
       "      <th></th>\n",
       "      <th>source</th>\n",
       "      <th>country</th>\n",
       "      <th>parameter</th>\n",
       "      <th>measurement_in_ppm</th>\n",
       "      <th>last_update</th>\n",
       "    </tr>\n",
       "  </thead>\n",
       "  <tbody>\n",
       "    <tr>\n",
       "      <th>0</th>\n",
       "      <td>AirNow</td>\n",
       "      <td>United States</td>\n",
       "      <td>O3</td>\n",
       "      <td>0.037</td>\n",
       "      <td>2023-05-30 18:00:00-05:00</td>\n",
       "    </tr>\n",
       "  </tbody>\n",
       "</table>\n",
       "</div>"
      ],
      "text/plain": [
       "   source        country parameter  measurement_in_ppm  \\\n",
       "0  AirNow  United States        O3               0.037   \n",
       "\n",
       "                last_update  \n",
       "0 2023-05-30 18:00:00-05:00  "
      ]
     },
     "execution_count": 23,
     "metadata": {},
     "output_type": "execute_result"
    }
   ],
   "source": [
    "# Review changes\n",
    "air_pollution_df.head(1)"
   ]
  },
  {
   "cell_type": "code",
   "execution_count": 24,
   "id": "c7e9a8e3-6b5c-46e4-90c9-3402e5b4f8d6",
   "metadata": {},
   "outputs": [
    {
     "data": {
      "text/plain": [
       "source                                   object\n",
       "country                                  object\n",
       "parameter                                object\n",
       "measurement_in_ppm                      float64\n",
       "last_update           datetime64[ns, UTC-05:00]\n",
       "dtype: object"
      ]
     },
     "execution_count": 24,
     "metadata": {},
     "output_type": "execute_result"
    }
   ],
   "source": [
    "# Review data types\n",
    "air_pollution_df.dtypes"
   ]
  },
  {
   "cell_type": "code",
   "execution_count": 25,
   "id": "49704787-2377-4ec6-b490-4975a5d13be7",
   "metadata": {},
   "outputs": [],
   "source": [
    "# Create MongoDB database & collection\n",
    "db = client[\"air_pollution\"]\n",
    "collection = db[\"pollution\"]"
   ]
  },
  {
   "cell_type": "code",
   "execution_count": 26,
   "id": "f1590dc0-a2c4-452c-a8e5-8d79c1833790",
   "metadata": {},
   "outputs": [
    {
     "data": {
      "text/plain": [
       "InsertManyResult([ObjectId('66660a1e5105a0a68d1b304e'), ObjectId('66660a1e5105a0a68d1b304f'), ObjectId('66660a1e5105a0a68d1b3050'), ObjectId('66660a1e5105a0a68d1b3051'), ObjectId('66660a1e5105a0a68d1b3052'), ObjectId('66660a1e5105a0a68d1b3053'), ObjectId('66660a1e5105a0a68d1b3054'), ObjectId('66660a1e5105a0a68d1b3055'), ObjectId('66660a1e5105a0a68d1b3056'), ObjectId('66660a1e5105a0a68d1b3057'), ObjectId('66660a1e5105a0a68d1b3058'), ObjectId('66660a1e5105a0a68d1b3059'), ObjectId('66660a1e5105a0a68d1b305a'), ObjectId('66660a1e5105a0a68d1b305b'), ObjectId('66660a1e5105a0a68d1b305c'), ObjectId('66660a1e5105a0a68d1b305d'), ObjectId('66660a1e5105a0a68d1b305e'), ObjectId('66660a1e5105a0a68d1b305f'), ObjectId('66660a1e5105a0a68d1b3060'), ObjectId('66660a1e5105a0a68d1b3061'), ObjectId('66660a1e5105a0a68d1b3062'), ObjectId('66660a1e5105a0a68d1b3063'), ObjectId('66660a1e5105a0a68d1b3064'), ObjectId('66660a1e5105a0a68d1b3065'), ObjectId('66660a1e5105a0a68d1b3066'), ObjectId('66660a1e5105a0a68d1b3067'), ObjectId('66660a1e5105a0a68d1b3068'), ObjectId('66660a1e5105a0a68d1b3069'), ObjectId('66660a1e5105a0a68d1b306a'), ObjectId('66660a1e5105a0a68d1b306b'), ObjectId('66660a1e5105a0a68d1b306c'), ObjectId('66660a1e5105a0a68d1b306d'), ObjectId('66660a1e5105a0a68d1b306e'), ObjectId('66660a1e5105a0a68d1b306f'), ObjectId('66660a1e5105a0a68d1b3070'), ObjectId('66660a1f5105a0a68d1b3071'), ObjectId('66660a1f5105a0a68d1b3072'), ObjectId('66660a1f5105a0a68d1b3073'), ObjectId('66660a1f5105a0a68d1b3074'), ObjectId('66660a1f5105a0a68d1b3075'), ObjectId('66660a1f5105a0a68d1b3076'), ObjectId('66660a1f5105a0a68d1b3077'), ObjectId('66660a1f5105a0a68d1b3078'), ObjectId('66660a1f5105a0a68d1b3079'), ObjectId('66660a1f5105a0a68d1b307a'), ObjectId('66660a1f5105a0a68d1b307b'), ObjectId('66660a1f5105a0a68d1b307c'), ObjectId('66660a1f5105a0a68d1b307d'), ObjectId('66660a1f5105a0a68d1b307e'), ObjectId('66660a1f5105a0a68d1b307f'), ObjectId('66660a1f5105a0a68d1b3080'), ObjectId('66660a1f5105a0a68d1b3081'), ObjectId('66660a1f5105a0a68d1b3082'), ObjectId('66660a1f5105a0a68d1b3083'), ObjectId('66660a1f5105a0a68d1b3084'), ObjectId('66660a1f5105a0a68d1b3085'), ObjectId('66660a1f5105a0a68d1b3086'), ObjectId('66660a1f5105a0a68d1b3087'), ObjectId('66660a1f5105a0a68d1b3088'), ObjectId('66660a1f5105a0a68d1b3089'), ObjectId('66660a1f5105a0a68d1b308a'), ObjectId('66660a1f5105a0a68d1b308b'), ObjectId('66660a1f5105a0a68d1b308c'), ObjectId('66660a1f5105a0a68d1b308d'), ObjectId('66660a1f5105a0a68d1b308e'), ObjectId('66660a1f5105a0a68d1b308f'), ObjectId('66660a1f5105a0a68d1b3090'), ObjectId('66660a1f5105a0a68d1b3091'), ObjectId('66660a1f5105a0a68d1b3092'), ObjectId('66660a1f5105a0a68d1b3093'), ObjectId('66660a1f5105a0a68d1b3094'), ObjectId('66660a1f5105a0a68d1b3095'), ObjectId('66660a1f5105a0a68d1b3096'), ObjectId('66660a1f5105a0a68d1b3097'), ObjectId('66660a1f5105a0a68d1b3098'), ObjectId('66660a1f5105a0a68d1b3099'), ObjectId('66660a1f5105a0a68d1b309a'), ObjectId('66660a1f5105a0a68d1b309b'), ObjectId('66660a1f5105a0a68d1b309c'), ObjectId('66660a1f5105a0a68d1b309d'), ObjectId('66660a1f5105a0a68d1b309e'), ObjectId('66660a1f5105a0a68d1b309f'), ObjectId('66660a1f5105a0a68d1b30a0'), ObjectId('66660a1f5105a0a68d1b30a1'), ObjectId('66660a1f5105a0a68d1b30a2'), ObjectId('66660a1f5105a0a68d1b30a3'), ObjectId('66660a1f5105a0a68d1b30a4'), ObjectId('66660a1f5105a0a68d1b30a5'), ObjectId('66660a1f5105a0a68d1b30a6'), ObjectId('66660a1f5105a0a68d1b30a7'), ObjectId('66660a1f5105a0a68d1b30a8'), ObjectId('66660a1f5105a0a68d1b30a9'), ObjectId('66660a1f5105a0a68d1b30aa'), ObjectId('66660a1f5105a0a68d1b30ab'), ObjectId('66660a1f5105a0a68d1b30ac'), ObjectId('66660a1f5105a0a68d1b30ad'), ObjectId('66660a1f5105a0a68d1b30ae'), ObjectId('66660a1f5105a0a68d1b30af'), ObjectId('66660a1f5105a0a68d1b30b0'), ObjectId('66660a1f5105a0a68d1b30b1')], acknowledged=True)"
      ]
     },
     "execution_count": 26,
     "metadata": {},
     "output_type": "execute_result"
    }
   ],
   "source": [
    "# Insert data into MongoDB\n",
    "data_dict_1 = air_pollution_df.to_dict(orient='records')\n",
    "collection.insert_many(data_dict_1)"
   ]
  },
  {
   "cell_type": "code",
   "execution_count": 27,
   "id": "d827733b-b749-4888-922c-fa7e2e8619c3",
   "metadata": {},
   "outputs": [],
   "source": [
    "# Create clean csv to import data into SQL\n",
    "air_pollution_df.to_csv('DataFrames/ready_for_sql_air_pollution_df.csv', index=False)"
   ]
  }
 ],
 "metadata": {
  "kernelspec": {
   "display_name": "Python 3 (ipykernel)",
   "language": "python",
   "name": "python3"
  },
  "language_info": {
   "codemirror_mode": {
    "name": "ipython",
    "version": 3
   },
   "file_extension": ".py",
   "mimetype": "text/x-python",
   "name": "python",
   "nbconvert_exporter": "python",
   "pygments_lexer": "ipython3",
   "version": "3.11.7"
  }
 },
 "nbformat": 4,
 "nbformat_minor": 5
}
