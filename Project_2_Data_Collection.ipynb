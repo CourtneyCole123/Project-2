{
 "cells": [
  {
   "cell_type": "code",
   "execution_count": 1,
   "id": "bcd873a7-2db4-4f49-b7a3-db28c9b0c743",
   "metadata": {},
   "outputs": [],
   "source": [
    "# Import Dependencies\n",
    "import requests\n",
    "import pandas as pd\n",
    "import json\n",
    "from splinter import Browser\n",
    "from bs4 import BeautifulSoup as bs\n",
    "from unicodedata import normalize\n",
    "import numpy as np\n",
    "import time\n",
    "from io import StringIO"
   ]
  },
  {
   "cell_type": "markdown",
   "id": "65c616db-afd2-4dc8-96c6-f23d963124aa",
   "metadata": {},
   "source": [
    "# Finding 1st Source #"
   ]
  },
  {
   "cell_type": "code",
   "execution_count": 2,
   "id": "407424da-ff8d-4b80-852a-c928342a189a",
   "metadata": {},
   "outputs": [],
   "source": [
    "# Get URL\n",
    "first_url = \"https://www.ncei.noaa.gov/access/billions/events-US-1980-2024.json\""
   ]
  },
  {
   "cell_type": "code",
   "execution_count": 3,
   "id": "27be92ea-93dc-40cb-8879-0dda5cc969fc",
   "metadata": {},
   "outputs": [],
   "source": [
    "# Read JSON\n",
    "res = requests.get(first_url).json()"
   ]
  },
  {
   "cell_type": "code",
   "execution_count": 4,
   "id": "e44fdb7d-15ca-4d1a-9c37-b13e1308af2f",
   "metadata": {},
   "outputs": [],
   "source": [
    "# Extract Necessary Data from JSON\n",
    "res_data = res['data']"
   ]
  },
  {
   "cell_type": "code",
   "execution_count": 5,
   "id": "4e99fb62-f4ae-492e-af89-7468a024c4c3",
   "metadata": {},
   "outputs": [],
   "source": [
    "# Create a DataFrame from JSON\n",
    "million_dollar_disasters = pd.DataFrame(res_data)"
   ]
  },
  {
   "cell_type": "code",
   "execution_count": 6,
   "id": "39a0fda6-1ea4-4455-aebe-f8bf245b2b66",
   "metadata": {},
   "outputs": [
    {
     "data": {
      "text/plain": [
       "383"
      ]
     },
     "execution_count": 6,
     "metadata": {},
     "output_type": "execute_result"
    }
   ],
   "source": [
    "# Confirm number of rows in the data\n",
    "len(million_dollar_disasters)"
   ]
  },
  {
   "cell_type": "code",
   "execution_count": 7,
   "id": "f04c1e70-e1e3-4f1a-a4a1-07469f27b595",
   "metadata": {},
   "outputs": [
    {
     "data": {
      "text/html": [
       "<div>\n",
       "<style scoped>\n",
       "    .dataframe tbody tr th:only-of-type {\n",
       "        vertical-align: middle;\n",
       "    }\n",
       "\n",
       "    .dataframe tbody tr th {\n",
       "        vertical-align: top;\n",
       "    }\n",
       "\n",
       "    .dataframe thead th {\n",
       "        text-align: right;\n",
       "    }\n",
       "</style>\n",
       "<table border=\"1\" class=\"dataframe\">\n",
       "  <thead>\n",
       "    <tr style=\"text-align: right;\">\n",
       "      <th></th>\n",
       "      <th>name</th>\n",
       "      <th>disaster</th>\n",
       "      <th>begDate</th>\n",
       "      <th>endDate</th>\n",
       "      <th>adjCost</th>\n",
       "      <th>unadjCost</th>\n",
       "      <th>deaths</th>\n",
       "    </tr>\n",
       "  </thead>\n",
       "  <tbody>\n",
       "    <tr>\n",
       "      <th>206</th>\n",
       "      <td>Midwest/Southeast/Northeast Tornadoes and Floo...</td>\n",
       "      <td>Severe Storm</td>\n",
       "      <td>20140427</td>\n",
       "      <td>20140501</td>\n",
       "      <td>2291.6</td>\n",
       "      <td>1736.1</td>\n",
       "      <td>33</td>\n",
       "    </tr>\n",
       "  </tbody>\n",
       "</table>\n",
       "</div>"
      ],
      "text/plain": [
       "                                                  name      disaster  \\\n",
       "206  Midwest/Southeast/Northeast Tornadoes and Floo...  Severe Storm   \n",
       "\n",
       "      begDate   endDate  adjCost  unadjCost  deaths  \n",
       "206  20140427  20140501   2291.6     1736.1      33  "
      ]
     },
     "execution_count": 7,
     "metadata": {},
     "output_type": "execute_result"
    }
   ],
   "source": [
    "# Look at one row of data\n",
    "million_dollar_disasters.sample(1)"
   ]
  },
  {
   "cell_type": "code",
   "execution_count": 8,
   "id": "08950531-1659-4093-9fb5-063563244b5d",
   "metadata": {},
   "outputs": [],
   "source": [
    "# Export to CSV\n",
    "million_dollar_disasters.to_csv('DataFrames/million_dollar_disasters_df.csv', index=False)"
   ]
  },
  {
   "cell_type": "markdown",
   "id": "3f6312b1-f4ef-4579-95d3-838752ff8706",
   "metadata": {},
   "source": [
    "# Finding 2nd Source #"
   ]
  },
  {
   "cell_type": "code",
   "execution_count": 9,
   "id": "f4700188-e6cc-4c21-9d96-6896851321f0",
   "metadata": {},
   "outputs": [],
   "source": [
    "# Set up the browser\n",
    "browser = Browser('chrome')"
   ]
  },
  {
   "cell_type": "code",
   "execution_count": 10,
   "id": "255cd378-35be-4e3b-ae52-455e729d32ec",
   "metadata": {},
   "outputs": [],
   "source": [
    "# Set URL & Visit URL\n",
    "html = \"https://public.opendatasoft.com/explore/dataset/openaq/table/?disjunctive.city&disjunctive.location&disjunctive.measurements_parameter&sort=measurements_lastupdated&refine.country_name_en=United+States\"\n",
    "browser.visit(html)"
   ]
  },
  {
   "cell_type": "code",
   "execution_count": 11,
   "id": "9a6dbe5a-2559-42df-818e-4a4bca268209",
   "metadata": {},
   "outputs": [],
   "source": [
    "# Parse the data\n",
    "html = browser.html\n",
    "soup = bs(html, 'html.parser')"
   ]
  },
  {
   "cell_type": "code",
   "execution_count": 12,
   "id": "2b07cf09-b7e0-4719-88dc-7957a287e0a4",
   "metadata": {},
   "outputs": [
    {
     "data": {
      "text/plain": [
       "['Country Label', 'Pollutant', 'Value', 'Unit', 'Last Updated', 'Source Name']"
      ]
     },
     "execution_count": 12,
     "metadata": {},
     "output_type": "execute_result"
    }
   ],
   "source": [
    "# Extract Header List for DataFrame columns\n",
    "header_list = []\n",
    "records_headers = soup.find_all('div',class_='odswidget-table__label')\n",
    "for row in records_headers:\n",
    "    header_list.append(row.text)\n",
    "header_list"
   ]
  },
  {
   "cell_type": "code",
   "execution_count": 13,
   "id": "ba26aac7-7f29-4d6e-8b27-4903b20a22c5",
   "metadata": {},
   "outputs": [],
   "source": [
    "# Extract rows for DataFrame\n",
    "row_list = []\n",
    "n = 0\n",
    "table = soup.find('tr')\n",
    "\n",
    "for row in table:\n",
    "    throwaway = soup.find('tr', class_= f'odswidget-table__internal-table-row record-{n}').find('td', class_=\"odswidget-table__cell\").find('div', class_=\"odswidget-table__cell-container\")\n",
    "    values = [throwaway.findNext('div').text,\n",
    "    throwaway.findNext('div').findNext('div').text,\n",
    "    throwaway.findNext('div').findNext('div').findNext('div').text,\n",
    "    throwaway.findNext('div').findNext('div').findNext('div').findNext('div').text,\n",
    "    throwaway.findNext('div').findNext('div').findNext('div').findNext('div').findNext('div').text,\n",
    "    throwaway.findNext('div').findNext('div').findNext('div').findNext('div').findNext('div').findNext('div').text]\n",
    "\n",
    "    row_list.append(values)\n",
    "    n += 1"
   ]
  },
  {
   "cell_type": "code",
   "execution_count": 14,
   "id": "51ce1eb8-303a-4bb8-bfcc-028961b4ee6c",
   "metadata": {},
   "outputs": [
    {
     "data": {
      "text/plain": [
       "17"
      ]
     },
     "execution_count": 14,
     "metadata": {},
     "output_type": "execute_result"
    }
   ],
   "source": [
    "# Create DataFrame\n",
    "df_2 = pd.DataFrame(row_list, columns=header_list)\n",
    "df_2\n",
    "len(df_2)"
   ]
  },
  {
   "cell_type": "code",
   "execution_count": 15,
   "id": "58dc5ef9-aa59-448f-8adf-de65f3296774",
   "metadata": {},
   "outputs": [],
   "source": [
    "# Quit the browsing session\n",
    "browser.quit()"
   ]
  },
  {
   "cell_type": "markdown",
   "id": "ec5c0efb-39b1-4a69-a2e2-38a6da5d00c0",
   "metadata": {},
   "source": [
    "Note: We were only able to extract 16 rows by scraping so we decided to go the JSON route."
   ]
  },
  {
   "cell_type": "markdown",
   "id": "61874807-a50b-437c-8039-8a21bb830247",
   "metadata": {},
   "source": [
    "# Finding 3rd Source #"
   ]
  },
  {
   "cell_type": "code",
   "execution_count": 16,
   "id": "a34ee9e4-be31-435a-b88a-bca05c79bde3",
   "metadata": {},
   "outputs": [],
   "source": [
    "# Define URL\n",
    "third_url = \"https://public.opendatasoft.com/api/records/1.0/search/?rows=100&disjunctive.city=true&disjunctive.location=true&disjunctive.measurements_parameter=true&sort=measurements_lastupdated&refine.country_name_en=United+States&start=0&fields=country_name_en,measurements_parameter,measurements_value,measurements_unit,measurements_lastupdated,measurements_sourcename&dataset=openaq&timezone=America%2FChicago&lang=en\""
   ]
  },
  {
   "cell_type": "code",
   "execution_count": 27,
   "id": "a07bc178-a824-4960-8e7e-5dfbb8c6420d",
   "metadata": {},
   "outputs": [],
   "source": [
    "# Get the data\n",
    "res_2 = requests.get(third_url).json()"
   ]
  },
  {
   "cell_type": "code",
   "execution_count": 18,
   "id": "ca11d473-d7b5-4e40-8f0b-49b250130825",
   "metadata": {},
   "outputs": [],
   "source": [
    "# Drill down to data needed\n",
    "res_2_data_list = []\n",
    "n=0\n",
    "res_2_data = res_2['records']\n",
    "for record in res_2_data:\n",
    "    res_2_data_list.append(record['fields'])"
   ]
  },
  {
   "cell_type": "code",
   "execution_count": 20,
   "id": "2d04ed4b-2688-4a6f-a6f8-46933bc5651a",
   "metadata": {},
   "outputs": [
    {
     "data": {
      "text/html": [
       "<div>\n",
       "<style scoped>\n",
       "    .dataframe tbody tr th:only-of-type {\n",
       "        vertical-align: middle;\n",
       "    }\n",
       "\n",
       "    .dataframe tbody tr th {\n",
       "        vertical-align: top;\n",
       "    }\n",
       "\n",
       "    .dataframe thead th {\n",
       "        text-align: right;\n",
       "    }\n",
       "</style>\n",
       "<table border=\"1\" class=\"dataframe\">\n",
       "  <thead>\n",
       "    <tr style=\"text-align: right;\">\n",
       "      <th></th>\n",
       "      <th>measurements_unit</th>\n",
       "      <th>measurements_value</th>\n",
       "      <th>measurements_sourcename</th>\n",
       "      <th>measurements_lastupdated</th>\n",
       "      <th>measurements_parameter</th>\n",
       "      <th>country_name_en</th>\n",
       "    </tr>\n",
       "  </thead>\n",
       "  <tbody>\n",
       "    <tr>\n",
       "      <th>50</th>\n",
       "      <td>µg/m³</td>\n",
       "      <td>10.4</td>\n",
       "      <td>AirNow</td>\n",
       "      <td>2023-05-30T18:00:00-05:00</td>\n",
       "      <td>PM2.5</td>\n",
       "      <td>United States</td>\n",
       "    </tr>\n",
       "  </tbody>\n",
       "</table>\n",
       "</div>"
      ],
      "text/plain": [
       "   measurements_unit  measurements_value measurements_sourcename  \\\n",
       "50             µg/m³                10.4                  AirNow   \n",
       "\n",
       "     measurements_lastupdated measurements_parameter country_name_en  \n",
       "50  2023-05-30T18:00:00-05:00                  PM2.5   United States  "
      ]
     },
     "execution_count": 20,
     "metadata": {},
     "output_type": "execute_result"
    }
   ],
   "source": [
    "# Create DataFrame\n",
    "air_pollution_df = pd.DataFrame(res_2_data_list)\n",
    "air_pollution_df.sample(1)"
   ]
  },
  {
   "cell_type": "code",
   "execution_count": 21,
   "id": "562a32ea-19a4-4af9-931b-c4a557746fe9",
   "metadata": {},
   "outputs": [
    {
     "data": {
      "text/plain": [
       "100"
      ]
     },
     "execution_count": 21,
     "metadata": {},
     "output_type": "execute_result"
    }
   ],
   "source": [
    "# Verify number of rows in DataFrame\n",
    "len(air_pollution_df)"
   ]
  },
  {
   "cell_type": "code",
   "execution_count": 26,
   "id": "b7f272c8-e743-4a14-907c-46b3064c8437",
   "metadata": {},
   "outputs": [],
   "source": [
    "# Export to CSV\n",
    "air_pollution_df.to_csv('DataFrames/air_pollution_df.csv', index=False)"
   ]
  },
  {
   "cell_type": "markdown",
   "id": "09e86689-744e-4c85-883b-c49760bc71d7",
   "metadata": {
    "jp-MarkdownHeadingCollapsed": true
   },
   "source": [
    "Note: We extracted the limit of 100 lines only for this assignment due to time constraints"
   ]
  }
 ],
 "metadata": {
  "kernelspec": {
   "display_name": "Python 3 (ipykernel)",
   "language": "python",
   "name": "python3"
  },
  "language_info": {
   "codemirror_mode": {
    "name": "ipython",
    "version": 3
   },
   "file_extension": ".py",
   "mimetype": "text/x-python",
   "name": "python",
   "nbconvert_exporter": "python",
   "pygments_lexer": "ipython3",
   "version": "3.11.7"
  }
 },
 "nbformat": 4,
 "nbformat_minor": 5
}
